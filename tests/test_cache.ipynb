{
 "cells": [
  {
   "cell_type": "code",
   "execution_count": 5,
   "metadata": {},
   "outputs": [
    {
     "name": "stderr",
     "output_type": "stream",
     "text": [
      "DEBUG:root:Cached (<bound method Example.test of <__main__.Example object at 0x7f02c2c07910>>, ((<__main__.Example object at 0x7f02c2c07910>, 1, 2), ())).\n",
      "DEBUG:root:Cached (<function func at 0x7f02c27e4e50>, ((1,), ())).\n"
     ]
    },
    {
     "data": {
      "text/plain": [
       "{<bound method Example.test of <__main__.Example object at 0x7f02c2c07910>>: {},\n",
       " <function __main__.func(a)>: {}}"
      ]
     },
     "execution_count": 5,
     "metadata": {},
     "output_type": "execute_result"
    }
   ],
   "source": [
    "import os\n",
    "import sys\n",
    "from pprint import pprint\n",
    "import json\n",
    "from memoiz.cache import Cache\n",
    "import logging\n",
    "\n",
    "logging.getLogger().setLevel(logging.DEBUG)\n",
    "\n",
    "cache = Cache()\n",
    "\n",
    "\n",
    "cache = Cache()\n",
    "\n",
    "class Example:\n",
    "\n",
    "    def __init__(self):\n",
    "        self.n = 1\n",
    "\n",
    "    @cache\n",
    "    def test(self, a, b):\n",
    "        return (self.n, a, b)\n",
    "\n",
    "example = Example()\n",
    "\n",
    "example.test(1, 2)\n",
    "\n",
    "cache.invalidate(example.test, example, 1, 2)\n",
    "\n",
    "@cache\n",
    "def func(a):\n",
    "    return a\n",
    "\n",
    "func(1)\n",
    "\n",
    "cache.invalidate(func, 1)\n",
    "\n",
    "cache._cache"
   ]
  },
  {
   "cell_type": "code",
   "execution_count": null,
   "metadata": {},
   "outputs": [],
   "source": [
    "\n",
    "class Test:\n",
    "\n",
    "    def __init__(self):\n",
    "        self.n = 5\n",
    "\n",
    "    @cache\n",
    "    def test(self, a, b):\n",
    "        return self.n + a + b\n",
    "\n",
    "    @cache\n",
    "    def test1(self, a, b):\n",
    "        return a + b\n",
    "\n",
    "    @cache\n",
    "    def test2(self):\n",
    "        return self.n\n",
    "\n",
    "    @cache\n",
    "    def identity(self, a, b):\n",
    "        return a\n",
    "\n",
    "\n",
    "test = Test()\n",
    "\n",
    "result = test.identity({'a': {'b': 1}}, b=1)\n",
    "\n",
    "result = test.test(a=1, b=2)\n",
    "\n",
    "result = test.test(b=2, a=1)\n",
    "\n",
    "result = test.test1([3], [4])\n",
    "\n",
    "result = test.test2()\n",
    "\n",
    "result = test.test(2, 3)\n",
    "\n",
    "result = test.test(3, 2)\n",
    "\n",
    "test1 = Test()\n",
    "result = test1.test(1, 2)\n",
    "\n",
    "cache.invalidate(test1.test, test1, 1, 2)\n",
    "\n",
    "\n",
    "@cache\n",
    "def func(a):\n",
    "    return a\n",
    "\n",
    "\n",
    "result = func(100)\n",
    "\n",
    "pprint(cache._cache)\n",
    "print('\\n\\n\\n\\n\\n')\n",
    "\n",
    "cache.invalidate(func, 100)\n",
    "\n",
    "pprint(cache._cache)\n",
    "print('\\n\\n\\n\\n\\n')\n"
   ]
  },
  {
   "cell_type": "code",
   "execution_count": null,
   "metadata": {},
   "outputs": [],
   "source": []
  }
 ],
 "metadata": {
  "kernelspec": {
   "display_name": "Python 3.8.13 ('python-3.8')",
   "language": "python",
   "name": "python3"
  },
  "language_info": {
   "codemirror_mode": {
    "name": "ipython",
    "version": 3
   },
   "file_extension": ".py",
   "mimetype": "text/x-python",
   "name": "python",
   "nbconvert_exporter": "python",
   "pygments_lexer": "ipython3",
   "version": "3.8.13"
  },
  "orig_nbformat": 4,
  "vscode": {
   "interpreter": {
    "hash": "968846a6247f40f641f581ac05733c0755a9d15ebd0b308483520db9bb966ea7"
   }
  }
 },
 "nbformat": 4,
 "nbformat_minor": 2
}
