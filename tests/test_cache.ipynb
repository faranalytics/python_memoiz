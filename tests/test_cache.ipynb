{
 "cells": [
  {
   "cell_type": "code",
   "execution_count": 1,
   "metadata": {},
   "outputs": [
    {
     "name": "stderr",
     "output_type": "stream",
     "text": [
      "DEBUG:root:Cached (<bound method Test.test of <__main__.Test object at 0x7f48c1ec7df0>>, ((<__main__.Test object at 0x7f48c1ec7df0>, 1), ())).\n"
     ]
    },
    {
     "name": "stdout",
     "output_type": "stream",
     "text": [
      "None\n"
     ]
    }
   ],
   "source": [
    "import os\n",
    "import sys\n",
    "from pprint import pprint\n",
    "import json\n",
    "from memoiz.cache import Cache\n",
    "import logging\n",
    "\n",
    "logging.getLogger().setLevel(logging.DEBUG)\n",
    "\n",
    "cache = Cache()\n",
    "\n",
    "class Test:\n",
    "\n",
    "    def __init__(self):\n",
    "        pass\n",
    "    \n",
    "    @cache\n",
    "    def test(self, a):\n",
    "        return a\n",
    "\n",
    "test = Test()\n",
    "\n",
    "r = test.test(1)\n",
    "\n",
    "print(r)"
   ]
  },
  {
   "cell_type": "code",
   "execution_count": 3,
   "metadata": {},
   "outputs": [
    {
     "data": {
      "text/plain": [
       "{<bound method Test.test of <__main__.Test object at 0x7f8884307c40>>: {((<__main__.Test at 0x7f8884307c40>,\n",
       "    1),\n",
       "   ()): 1}}"
      ]
     },
     "execution_count": 3,
     "metadata": {},
     "output_type": "execute_result"
    }
   ],
   "source": [
    "cache._cache"
   ]
  },
  {
   "cell_type": "code",
   "execution_count": null,
   "metadata": {},
   "outputs": [],
   "source": [
    "# class Test:\n",
    "\n",
    "#     def __init__(self):\n",
    "#         self.n = 5\n",
    "\n",
    "#     @cache\n",
    "#     def test(self, a, b):\n",
    "#         return self.n + a + b\n",
    "\n",
    "#     @cache\n",
    "#     def test1(self, a, b):\n",
    "#         return a + b\n",
    "\n",
    "#     @cache\n",
    "#     def test2(self):\n",
    "#         return self.n\n",
    "\n",
    "#     @cache\n",
    "#     def identity(self, a, b):\n",
    "#         return a\n",
    "\n",
    "\n",
    "# test = Test()\n",
    "\n",
    "# result = test.identity({'a': {'b': 1}}, b=1)\n",
    "\n",
    "# result = test.test(a=1, b=2)\n",
    "\n",
    "# result = test.test(b=2, a=1)\n",
    "\n",
    "# result = test.test1([3], [4])\n",
    "\n",
    "# result = test.test2()\n",
    "\n",
    "# result = test.test(2, 3)\n",
    "\n",
    "# result = test.test(3, 2)\n",
    "\n",
    "# test1 = Test()\n",
    "# result = test1.test(1, 2)\n",
    "\n",
    "# cache.invalidate(test1.test, test1, 1, 2)\n",
    "\n",
    "\n",
    "# @cache\n",
    "# def func(a):\n",
    "#     return a\n",
    "\n",
    "\n",
    "# result = func(100)\n",
    "\n",
    "# pprint(cache._cache)\n",
    "# print('\\n\\n\\n\\n\\n')\n",
    "\n",
    "# cache.invalidate(func, 100)\n",
    "\n",
    "# pprint(cache._cache)\n",
    "# print('\\n\\n\\n\\n\\n')\n"
   ]
  },
  {
   "cell_type": "code",
   "execution_count": null,
   "metadata": {},
   "outputs": [],
   "source": []
  }
 ],
 "metadata": {
  "kernelspec": {
   "display_name": "Python 3.9.15 ('python-3.9': conda)",
   "language": "python",
   "name": "python3"
  },
  "language_info": {
   "codemirror_mode": {
    "name": "ipython",
    "version": 3
   },
   "file_extension": ".py",
   "mimetype": "text/x-python",
   "name": "python",
   "nbconvert_exporter": "python",
   "pygments_lexer": "ipython3",
   "version": "3.9.15"
  },
  "orig_nbformat": 4,
  "vscode": {
   "interpreter": {
    "hash": "dbe85667dd15df860125a42315fe0131ecfe115361c05d68f48a49224bbf16c7"
   }
  }
 },
 "nbformat": 4,
 "nbformat_minor": 2
}
