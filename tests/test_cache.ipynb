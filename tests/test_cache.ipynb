{
 "cells": [
  {
   "cell_type": "code",
   "execution_count": 1,
   "metadata": {},
   "outputs": [
    {
     "name": "stderr",
     "output_type": "stream",
     "text": [
      "DEBUG:root:Cached (<bound method Test.test of <__main__.Test object at 0x7f0fa4221f40>>, ((<__main__.Test object at 0x7f0fa4221f40>, 1), ())).\n",
      "DEBUG:root:Using cache for (<bound method Test.test of <__main__.Test object at 0x7f0fa4221f40>>, ((<__main__.Test object at 0x7f0fa4221f40>, 1), ())).\n"
     ]
    },
    {
     "name": "stdout",
     "output_type": "stream",
     "text": [
      "test\n",
      "test2\n",
      "1\n"
     ]
    }
   ],
   "source": [
    "import os\n",
    "import sys\n",
    "from pprint import pprint\n",
    "import json\n",
    "from memoiz.cache import Cache\n",
    "import logging\n",
    "\n",
    "logging.getLogger().setLevel(logging.DEBUG)\n",
    "\n",
    "cache = Cache()\n",
    "\n",
    "class Test:\n",
    "\n",
    "    def __init__(self):\n",
    "        pass\n",
    "    \n",
    "    @cache\n",
    "    def test(self, a):\n",
    "        return a\n",
    "\n",
    "test = Test()\n",
    "\n",
    "r = test.test(1)\n",
    "\n",
    "print(r)"
   ]
  },
  {
   "cell_type": "code",
   "execution_count": 2,
   "metadata": {},
   "outputs": [
    {
     "data": {
      "text/plain": [
       "{<bound method Test.test of <__main__.Test object at 0x7f0fa4221f40>>: {((<__main__.Test at 0x7f0fa4221f40>,\n",
       "    1),\n",
       "   ()): 1}}"
      ]
     },
     "execution_count": 2,
     "metadata": {},
     "output_type": "execute_result"
    }
   ],
   "source": [
    "cache._cache"
   ]
  },
  {
   "cell_type": "code",
   "execution_count": 3,
   "metadata": {},
   "outputs": [
    {
     "name": "stderr",
     "output_type": "stream",
     "text": [
      "DEBUG:root:Cached (<bound method Test.test of <__main__.Test object at 0x7f0fa43faf40>>, ((<__main__.Test object at 0x7f0fa43faf40>,), (('a', 1), ('b', 2)))).\n",
      "DEBUG:root:Using cache for (<bound method Test.test of <__main__.Test object at 0x7f0fa43faf40>>, ((<__main__.Test object at 0x7f0fa43faf40>,), (('a', 1), ('b', 2)))).\n",
      "DEBUG:root:Using cache for (<bound method Test.test of <__main__.Test object at 0x7f0fa43faf40>>, ((<__main__.Test object at 0x7f0fa43faf40>,), (('a', 1), ('b', 2)))).\n",
      "DEBUG:root:Cached (<bound method Test.test1 of <__main__.Test object at 0x7f0fa43faf40>>, ((<__main__.Test object at 0x7f0fa43faf40>, (3,), (4,)), ())).\n",
      "DEBUG:root:Using cache for (<bound method Test.test1 of <__main__.Test object at 0x7f0fa43faf40>>, ((<__main__.Test object at 0x7f0fa43faf40>, (3,), (4,)), ())).\n",
      "DEBUG:root:Cached (<bound method Test.test2 of <__main__.Test object at 0x7f0fa43faf40>>, ((<__main__.Test object at 0x7f0fa43faf40>,), ())).\n",
      "DEBUG:root:Using cache for (<bound method Test.test2 of <__main__.Test object at 0x7f0fa43faf40>>, ((<__main__.Test object at 0x7f0fa43faf40>,), ())).\n",
      "DEBUG:root:Cached (<bound method Test.test of <__main__.Test object at 0x7f0fa43faf40>>, ((<__main__.Test object at 0x7f0fa43faf40>, 2, 3), ())).\n",
      "DEBUG:root:Using cache for (<bound method Test.test of <__main__.Test object at 0x7f0fa43faf40>>, ((<__main__.Test object at 0x7f0fa43faf40>, 2, 3), ())).\n",
      "DEBUG:root:Cached (<bound method Test.test of <__main__.Test object at 0x7f0fa43faf40>>, ((<__main__.Test object at 0x7f0fa43faf40>, 3, 2), ())).\n",
      "DEBUG:root:Using cache for (<bound method Test.test of <__main__.Test object at 0x7f0fa43faf40>>, ((<__main__.Test object at 0x7f0fa43faf40>, 3, 2), ())).\n",
      "DEBUG:root:Cached (<bound method Test.test of <__main__.Test object at 0x7f0fa4739df0>>, ((<__main__.Test object at 0x7f0fa4739df0>, 1, 2), ())).\n",
      "DEBUG:root:Using cache for (<bound method Test.test of <__main__.Test object at 0x7f0fa4739df0>>, ((<__main__.Test object at 0x7f0fa4739df0>, 1, 2), ())).\n",
      "DEBUG:root:Cached (<function func at 0x7f0fa4115430>, ((100,), ())).\n",
      "DEBUG:root:Using cache for (<function func at 0x7f0fa4115430>, ((100,), ())).\n"
     ]
    },
    {
     "name": "stdout",
     "output_type": "stream",
     "text": [
      "test\n",
      "test2\n",
      "test\n",
      "test2\n",
      "test\n",
      "test2\n",
      "test\n",
      "test2\n",
      "test\n",
      "test2\n",
      "test\n",
      "test2\n",
      "test\n",
      "test2\n",
      "test\n",
      "test2\n",
      "{<function func at 0x7f0fa4115430>: {((100,), ()): 100},\n",
      " <bound method Test.test of <__main__.Test object at 0x7f0fa4221f40>>: {((<__main__.Test object at 0x7f0fa4221f40>, 1), ()): 1},\n",
      " <bound method Test.test2 of <__main__.Test object at 0x7f0fa43faf40>>: {((<__main__.Test object at 0x7f0fa43faf40>,), ()): 5},\n",
      " <bound method Test.test of <__main__.Test object at 0x7f0fa43faf40>>: {((<__main__.Test object at 0x7f0fa43faf40>,), (('a', 1), ('b', 2))): 8,\n",
      "                                                                        ((<__main__.Test object at 0x7f0fa43faf40>, 2, 3), ()): 10,\n",
      "                                                                        ((<__main__.Test object at 0x7f0fa43faf40>, 3, 2), ()): 10},\n",
      " <bound method Test.test1 of <__main__.Test object at 0x7f0fa43faf40>>: {((<__main__.Test object at 0x7f0fa43faf40>, (3,), (4,)), ()): [3,\n",
      "                                                                                                                                        4]},\n",
      " <bound method Test.test of <__main__.Test object at 0x7f0fa4739df0>>: {}}\n",
      "\n",
      "\n",
      "\n",
      "\n",
      "\n",
      "\n",
      "{<function func at 0x7f0fa4115430>: {},\n",
      " <bound method Test.test of <__main__.Test object at 0x7f0fa4221f40>>: {((<__main__.Test object at 0x7f0fa4221f40>, 1), ()): 1},\n",
      " <bound method Test.test2 of <__main__.Test object at 0x7f0fa43faf40>>: {((<__main__.Test object at 0x7f0fa43faf40>,), ()): 5},\n",
      " <bound method Test.test of <__main__.Test object at 0x7f0fa43faf40>>: {((<__main__.Test object at 0x7f0fa43faf40>,), (('a', 1), ('b', 2))): 8,\n",
      "                                                                        ((<__main__.Test object at 0x7f0fa43faf40>, 2, 3), ()): 10,\n",
      "                                                                        ((<__main__.Test object at 0x7f0fa43faf40>, 3, 2), ()): 10},\n",
      " <bound method Test.test1 of <__main__.Test object at 0x7f0fa43faf40>>: {((<__main__.Test object at 0x7f0fa43faf40>, (3,), (4,)), ()): [3,\n",
      "                                                                                                                                        4]},\n",
      " <bound method Test.test of <__main__.Test object at 0x7f0fa4739df0>>: {}}\n",
      "\n",
      "\n",
      "\n",
      "\n",
      "\n",
      "\n"
     ]
    }
   ],
   "source": [
    "class Test:\n",
    "\n",
    "    def __init__(self):\n",
    "        self.n = 5\n",
    "\n",
    "    @cache\n",
    "    def test(self, a, b):\n",
    "        return self.n + a + b\n",
    "\n",
    "    @cache\n",
    "    def test1(self, a, b):\n",
    "        return a + b\n",
    "\n",
    "    @cache\n",
    "    def test2(self):\n",
    "        return self.n\n",
    "\n",
    "    @cache\n",
    "    def identity(self, a):\n",
    "        return a\n",
    "\n",
    "\n",
    "test = Test()\n",
    "\n",
    "result = test.test(a=1, b=2)\n",
    "\n",
    "result = test.test(b=2, a=1)\n",
    "\n",
    "result = test.test1([3], [4])\n",
    "\n",
    "result = test.test2()\n",
    "\n",
    "result = test.test(2, 3)\n",
    "\n",
    "result = test.test(3, 2)\n",
    "\n",
    "test1 = Test()\n",
    "result = test1.test(1, 2)\n",
    "\n",
    "cache.invalidate(test1.test, test1, 1, 2)\n",
    "\n",
    "@cache\n",
    "def func(a):\n",
    "    return a\n",
    "\n",
    "result = func(100)\n",
    "\n",
    "pprint(cache._cache)\n",
    "print('\\n\\n\\n\\n\\n')\n",
    "\n",
    "cache.invalidate(func, 100)\n",
    "\n",
    "pprint(cache._cache)\n",
    "print('\\n\\n\\n\\n\\n')"
   ]
  },
  {
   "cell_type": "code",
   "execution_count": 4,
   "metadata": {},
   "outputs": [
    {
     "name": "stderr",
     "output_type": "stream",
     "text": [
      "INFO:numexpr.utils:NumExpr defaulting to 4 threads.\n"
     ]
    },
    {
     "name": "stdout",
     "output_type": "stream",
     "text": [
      "test\n"
     ]
    },
    {
     "ename": "AttributeError",
     "evalue": "'CacheException' object has no attribute 'message'",
     "output_type": "error",
     "traceback": [
      "\u001b[0;31m---------------------------------------------------------------------------\u001b[0m",
      "\u001b[0;31mTypeError\u001b[0m                                 Traceback (most recent call last)",
      "File \u001b[0;32m~/workspace/faranalytics/python_memoiz/src/memoiz/cache.py:30\u001b[0m, in \u001b[0;36mCache.freeze\u001b[0;34m(self, it)\u001b[0m\n\u001b[1;32m     29\u001b[0m \u001b[39mprint\u001b[39m(\u001b[39m'\u001b[39m\u001b[39mtest\u001b[39m\u001b[39m'\u001b[39m)\n\u001b[0;32m---> 30\u001b[0m \u001b[39mhash\u001b[39;49m(it)\n\u001b[1;32m     31\u001b[0m \u001b[39mprint\u001b[39m(\u001b[39m'\u001b[39m\u001b[39mtest2\u001b[39m\u001b[39m'\u001b[39m)\n",
      "\u001b[0;31mTypeError\u001b[0m: unhashable type: 'DataFrame'",
      "\nDuring handling of the above exception, another exception occurred:\n",
      "\u001b[0;31mCacheException\u001b[0m                            Traceback (most recent call last)",
      "File \u001b[0;32m~/workspace/faranalytics/python_memoiz/src/memoiz/cache.py:48\u001b[0m, in \u001b[0;36mCache.__call__.<locals>.wrapper\u001b[0;34m(*args, **kwargs)\u001b[0m\n\u001b[1;32m     46\u001b[0m     _fn \u001b[39m=\u001b[39m wrapper\n\u001b[0;32m---> 48\u001b[0m hashable \u001b[39m=\u001b[39m \u001b[39mself\u001b[39;49m\u001b[39m.\u001b[39;49mfreeze((args, kwargs))\n\u001b[1;32m     50\u001b[0m \u001b[39mif\u001b[39;00m _fn \u001b[39mnot\u001b[39;00m \u001b[39min\u001b[39;00m \u001b[39mself\u001b[39m\u001b[39m.\u001b[39m_cache:\n",
      "File \u001b[0;32m~/workspace/faranalytics/python_memoiz/src/memoiz/cache.py:24\u001b[0m, in \u001b[0;36mCache.freeze\u001b[0;34m(self, it)\u001b[0m\n\u001b[1;32m     23\u001b[0m \u001b[39melif\u001b[39;00m \u001b[39misinstance\u001b[39m(it, (\u001b[39mlist\u001b[39m, \u001b[39mtuple\u001b[39m)):\n\u001b[0;32m---> 24\u001b[0m     \u001b[39mreturn\u001b[39;00m \u001b[39mtuple\u001b[39;49m(\u001b[39mself\u001b[39;49m\u001b[39m.\u001b[39;49mfreeze(i) \u001b[39mfor\u001b[39;49;00m i \u001b[39min\u001b[39;49;00m it)\n\u001b[1;32m     25\u001b[0m \u001b[39melif\u001b[39;00m \u001b[39misinstance\u001b[39m(it, \u001b[39mdict\u001b[39m):\n",
      "File \u001b[0;32m~/workspace/faranalytics/python_memoiz/src/memoiz/cache.py:24\u001b[0m, in \u001b[0;36m<genexpr>\u001b[0;34m(.0)\u001b[0m\n\u001b[1;32m     23\u001b[0m \u001b[39melif\u001b[39;00m \u001b[39misinstance\u001b[39m(it, (\u001b[39mlist\u001b[39m, \u001b[39mtuple\u001b[39m)):\n\u001b[0;32m---> 24\u001b[0m     \u001b[39mreturn\u001b[39;00m \u001b[39mtuple\u001b[39m(\u001b[39mself\u001b[39;49m\u001b[39m.\u001b[39;49mfreeze(i) \u001b[39mfor\u001b[39;00m i \u001b[39min\u001b[39;00m it)\n\u001b[1;32m     25\u001b[0m \u001b[39melif\u001b[39;00m \u001b[39misinstance\u001b[39m(it, \u001b[39mdict\u001b[39m):\n",
      "File \u001b[0;32m~/workspace/faranalytics/python_memoiz/src/memoiz/cache.py:24\u001b[0m, in \u001b[0;36mCache.freeze\u001b[0;34m(self, it)\u001b[0m\n\u001b[1;32m     23\u001b[0m \u001b[39melif\u001b[39;00m \u001b[39misinstance\u001b[39m(it, (\u001b[39mlist\u001b[39m, \u001b[39mtuple\u001b[39m)):\n\u001b[0;32m---> 24\u001b[0m     \u001b[39mreturn\u001b[39;00m \u001b[39mtuple\u001b[39;49m(\u001b[39mself\u001b[39;49m\u001b[39m.\u001b[39;49mfreeze(i) \u001b[39mfor\u001b[39;49;00m i \u001b[39min\u001b[39;49;00m it)\n\u001b[1;32m     25\u001b[0m \u001b[39melif\u001b[39;00m \u001b[39misinstance\u001b[39m(it, \u001b[39mdict\u001b[39m):\n",
      "File \u001b[0;32m~/workspace/faranalytics/python_memoiz/src/memoiz/cache.py:24\u001b[0m, in \u001b[0;36m<genexpr>\u001b[0;34m(.0)\u001b[0m\n\u001b[1;32m     23\u001b[0m \u001b[39melif\u001b[39;00m \u001b[39misinstance\u001b[39m(it, (\u001b[39mlist\u001b[39m, \u001b[39mtuple\u001b[39m)):\n\u001b[0;32m---> 24\u001b[0m     \u001b[39mreturn\u001b[39;00m \u001b[39mtuple\u001b[39m(\u001b[39mself\u001b[39;49m\u001b[39m.\u001b[39;49mfreeze(i) \u001b[39mfor\u001b[39;00m i \u001b[39min\u001b[39;00m it)\n\u001b[1;32m     25\u001b[0m \u001b[39melif\u001b[39;00m \u001b[39misinstance\u001b[39m(it, \u001b[39mdict\u001b[39m):\n",
      "File \u001b[0;32m~/workspace/faranalytics/python_memoiz/src/memoiz/cache.py:33\u001b[0m, in \u001b[0;36mCache.freeze\u001b[0;34m(self, it)\u001b[0m\n\u001b[1;32m     32\u001b[0m \u001b[39mexcept\u001b[39;00m \u001b[39mException\u001b[39;00m \u001b[39mas\u001b[39;00m e:\n\u001b[0;32m---> 33\u001b[0m     \u001b[39mraise\u001b[39;00m CacheException(\u001b[39mf\u001b[39m\u001b[39m\"\u001b[39m\u001b[39mCannot freeze \u001b[39m\u001b[39m{\u001b[39;00mit\u001b[39m}\u001b[39;00m\u001b[39m.\u001b[39m\u001b[39m\"\u001b[39m)\n\u001b[1;32m     34\u001b[0m \u001b[39mreturn\u001b[39;00m it\n",
      "\u001b[0;31mCacheException\u001b[0m: Cannot freeze Empty DataFrame\nColumns: []\nIndex: [].",
      "\nDuring handling of the above exception, another exception occurred:\n",
      "\u001b[0;31mAttributeError\u001b[0m                            Traceback (most recent call last)",
      "Cell \u001b[0;32mIn [4], line 11\u001b[0m\n\u001b[1;32m      7\u001b[0m \u001b[39m@cache\u001b[39m\n\u001b[1;32m      8\u001b[0m \u001b[39mdef\u001b[39;00m \u001b[39midentity\u001b[39m(a):\n\u001b[1;32m      9\u001b[0m     \u001b[39mreturn\u001b[39;00m a\n\u001b[0;32m---> 11\u001b[0m identity(pd\u001b[39m.\u001b[39;49mDataFrame())\n",
      "File \u001b[0;32m~/workspace/faranalytics/python_memoiz/src/memoiz/cache.py:61\u001b[0m, in \u001b[0;36mCache.__call__.<locals>.wrapper\u001b[0;34m(*args, **kwargs)\u001b[0m\n\u001b[1;32m     58\u001b[0m     \u001b[39mreturn\u001b[39;00m \u001b[39mself\u001b[39m\u001b[39m.\u001b[39m_cache[_fn][hashable]\n\u001b[1;32m     60\u001b[0m \u001b[39mexcept\u001b[39;00m CacheException \u001b[39mas\u001b[39;00m e:\n\u001b[0;32m---> 61\u001b[0m     logging\u001b[39m.\u001b[39mdebug(e\u001b[39m.\u001b[39;49mmessage)\n\u001b[1;32m     62\u001b[0m     \u001b[39mreturn\u001b[39;00m fn(\u001b[39m*\u001b[39margs, \u001b[39m*\u001b[39m\u001b[39m*\u001b[39mkwargs)\n",
      "\u001b[0;31mAttributeError\u001b[0m: 'CacheException' object has no attribute 'message'"
     ]
    }
   ],
   "source": [
    "import pandas as pd\n",
    "from memoiz.cache import Cache\n",
    "import logging\n",
    "\n",
    "cache = Cache()\n",
    "\n",
    "@cache\n",
    "def identity(a):\n",
    "    return a\n",
    "\n",
    "identity(pd.DataFrame())"
   ]
  },
  {
   "cell_type": "code",
   "execution_count": null,
   "metadata": {},
   "outputs": [],
   "source": [
    "pd.DataFrame()"
   ]
  },
  {
   "cell_type": "code",
   "execution_count": null,
   "metadata": {},
   "outputs": [],
   "source": []
  }
 ],
 "metadata": {
  "kernelspec": {
   "display_name": "Python 3.9.15 ('python-3.9': conda)",
   "language": "python",
   "name": "python3"
  },
  "language_info": {
   "codemirror_mode": {
    "name": "ipython",
    "version": 3
   },
   "file_extension": ".py",
   "mimetype": "text/x-python",
   "name": "python",
   "nbconvert_exporter": "python",
   "pygments_lexer": "ipython3",
   "version": "3.9.15"
  },
  "orig_nbformat": 4,
  "vscode": {
   "interpreter": {
    "hash": "dbe85667dd15df860125a42315fe0131ecfe115361c05d68f48a49224bbf16c7"
   }
  }
 },
 "nbformat": 4,
 "nbformat_minor": 2
}
