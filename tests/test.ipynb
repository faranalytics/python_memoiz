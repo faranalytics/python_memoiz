{
 "cells": [
  {
   "cell_type": "code",
   "execution_count": null,
   "metadata": {},
   "outputs": [],
   "source": [
    "import os\n",
    "import sys\n",
    "from pprint import pprint\n",
    "import json\n",
    "from memoiz.cache import Cache\n",
    "import logging\n",
    "import pandas as pd\n",
    "from pprint import pprint\n",
    "\n",
    "cache = Cache()\n",
    "\n",
    "class Test:\n",
    "    def __init__(self):\n",
    "        pass\n",
    "    \n",
    "    @cache\n",
    "    def func(self, a):\n",
    "        return a\n",
    "\n",
    "test = Test()\n",
    "\n",
    "test.func(1)\n",
    "\n",
    "@cache\n",
    "def func(a):\n",
    "    return a\n",
    "\n",
    "func(1)\n",
    "\n",
    "\n",
    "pprint(cache._cache)"
   ]
  },
  {
   "cell_type": "code",
   "execution_count": null,
   "metadata": {},
   "outputs": [],
   "source": [
    "print(test.func)\n",
    "print(func)"
   ]
  }
 ],
 "metadata": {
  "kernelspec": {
   "display_name": "Python 3.9.15 ('python-3.9': conda)",
   "language": "python",
   "name": "python3"
  },
  "language_info": {
   "codemirror_mode": {
    "name": "ipython",
    "version": 3
   },
   "file_extension": ".py",
   "mimetype": "text/x-python",
   "name": "python",
   "nbconvert_exporter": "python",
   "pygments_lexer": "ipython3",
   "version": "3.9.16"
  },
  "orig_nbformat": 4,
  "vscode": {
   "interpreter": {
    "hash": "dbe85667dd15df860125a42315fe0131ecfe115361c05d68f48a49224bbf16c7"
   }
  }
 },
 "nbformat": 4,
 "nbformat_minor": 2
}
