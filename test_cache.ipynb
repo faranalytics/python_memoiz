{
 "cells": [
  {
   "cell_type": "code",
   "execution_count": 1,
   "metadata": {},
   "outputs": [],
   "source": [
    "import os\n",
    "import sys\n",
    "from pprint import pprint\n",
    "import json\n",
    "from cache import Cache\n",
    "import logging\n",
    "\n",
    "logging.getLogger().setLevel(logging.DEBUG)"
   ]
  },
  {
   "cell_type": "code",
   "execution_count": 2,
   "metadata": {},
   "outputs": [
    {
     "ename": "TypeError",
     "evalue": "__init__() got an unexpected keyword argument 'use_hash'",
     "output_type": "error",
     "traceback": [
      "\u001b[0;31m---------------------------------------------------------------------------\u001b[0m",
      "\u001b[0;31mTypeError\u001b[0m                                 Traceback (most recent call last)",
      "Cell \u001b[0;32mIn [2], line 1\u001b[0m\n\u001b[0;32m----> 1\u001b[0m cache \u001b[39m=\u001b[39m Cache(use_hash\u001b[39m=\u001b[39;49m\u001b[39mTrue\u001b[39;49;00m)\n\u001b[1;32m      3\u001b[0m \u001b[39mclass\u001b[39;00m \u001b[39mTest\u001b[39;00m:\n\u001b[1;32m      5\u001b[0m     \u001b[39mdef\u001b[39;00m \u001b[39m__init__\u001b[39m(\u001b[39mself\u001b[39m):\n",
      "\u001b[0;31mTypeError\u001b[0m: __init__() got an unexpected keyword argument 'use_hash'"
     ]
    }
   ],
   "source": [
    "cache = Cache(allow_hash=True)\n",
    "\n",
    "class Test:\n",
    "\n",
    "    def __init__(self):\n",
    "        self.n = 5\n",
    "\n",
    "    @cache\n",
    "    def test(self, a, b):\n",
    "        return self.n + a + b\n",
    "\n",
    "    @cache\n",
    "    def test1(self, a, b):\n",
    "        return a + b\n",
    "\n",
    "    @cache\n",
    "    def test2(self):\n",
    "        return self.n\n",
    "\n",
    "    @cache\n",
    "    def identity(self, a, b):\n",
    "        return a\n",
    "\n",
    "test = Test()\n",
    "\n",
    "result = test.identity({'a':{'b': 1}}, b=1)\n",
    "\n",
    "result = test.test(a=1, b=2)\n",
    "\n",
    "result = test.test(b=2, a=1)\n",
    "\n",
    "result = test.test1([3],[4])\n",
    "\n",
    "result = test.test2()\n",
    "\n",
    "result = test.test(2,3)\n",
    "\n",
    "result = test.test(3,2)\n",
    "\n",
    "test1 = Test()\n",
    "result = test1.test(1,2)\n",
    "\n",
    "cache.invalidate(test1.test, test1, 1,2)\n",
    "\n",
    "@cache\n",
    "def func(a):\n",
    "    return a\n",
    "\n",
    "result = func(100)\n",
    "\n",
    "pprint(cache._cache)\n",
    "print('\\n\\n\\n\\n\\n')\n",
    "\n",
    "cache.invalidate(func, 100)\n",
    "\n",
    "pprint(cache._cache)\n",
    "print('\\n\\n\\n\\n\\n')"
   ]
  },
  {
   "cell_type": "code",
   "execution_count": null,
   "metadata": {},
   "outputs": [],
   "source": []
  }
 ],
 "metadata": {
  "kernelspec": {
   "display_name": "Python 3.8.13 ('python-3.8')",
   "language": "python",
   "name": "python3"
  },
  "language_info": {
   "codemirror_mode": {
    "name": "ipython",
    "version": 3
   },
   "file_extension": ".py",
   "mimetype": "text/x-python",
   "name": "python",
   "nbconvert_exporter": "python",
   "pygments_lexer": "ipython3",
   "version": "3.8.13"
  },
  "orig_nbformat": 4,
  "vscode": {
   "interpreter": {
    "hash": "968846a6247f40f641f581ac05733c0755a9d15ebd0b308483520db9bb966ea7"
   }
  }
 },
 "nbformat": 4,
 "nbformat_minor": 2
}
