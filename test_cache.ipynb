{
 "cells": [
  {
   "cell_type": "code",
   "execution_count": 1,
   "metadata": {},
   "outputs": [],
   "source": [
    "import os\n",
    "import sys\n",
    "from pprint import pprint\n",
    "import json\n",
    "from cache import Cache"
   ]
  },
  {
   "cell_type": "code",
   "execution_count": 3,
   "metadata": {},
   "outputs": [
    {
     "name": "stderr",
     "output_type": "stream",
     "text": [
      "DEBUG:root:Cached (<bound method Test.identity of <__main__.Test object at 0x7f1ece48fbe0>>, ((<__main__.Test object at 0x7f1ece48fbe0>, (('a', (('b', 1),)),)), (('b', 1),))).\n",
      "DEBUG:root:Cached (<bound method Test.test of <__main__.Test object at 0x7f1ece48fbe0>>, ((<__main__.Test object at 0x7f1ece48fbe0>,), (('a', 1), ('b', 2)))).\n",
      "DEBUG:root:Using cache for (<bound method Test.test of <__main__.Test object at 0x7f1ece48fbe0>>, ((<__main__.Test object at 0x7f1ece48fbe0>,), (('a', 1), ('b', 2)))).\n",
      "DEBUG:root:Cached (<bound method Test.test1 of <__main__.Test object at 0x7f1ece48fbe0>>, ((<__main__.Test object at 0x7f1ece48fbe0>, (3,), (4,)), ())).\n",
      "DEBUG:root:Cached (<bound method Test.test2 of <__main__.Test object at 0x7f1ece48fbe0>>, ((<__main__.Test object at 0x7f1ece48fbe0>,), ())).\n",
      "DEBUG:root:Cached (<bound method Test.test of <__main__.Test object at 0x7f1ece48fbe0>>, ((<__main__.Test object at 0x7f1ece48fbe0>, 2, 3), ())).\n",
      "DEBUG:root:Cached (<bound method Test.test of <__main__.Test object at 0x7f1ece48fbe0>>, ((<__main__.Test object at 0x7f1ece48fbe0>, 3, 2), ())).\n",
      "DEBUG:root:Cached (<bound method Test.test of <__main__.Test object at 0x7f1ece49a490>>, ((<__main__.Test object at 0x7f1ece49a490>, 1, 2), ())).\n",
      "DEBUG:root:Cached (<function func at 0x7f1ecd828ee0>, ((100,), ())).\n"
     ]
    },
    {
     "name": "stdout",
     "output_type": "stream",
     "text": [
      "{<function func at 0x7f1ecd828ee0>: {((100,), ()): 100},\n",
      " <bound method Test.test of <__main__.Test object at 0x7f1ece48fbe0>>: {((<__main__.Test object at 0x7f1ece48fbe0>,), (('a', 1), ('b', 2))): 8,\n",
      "                                                                        ((<__main__.Test object at 0x7f1ece48fbe0>, 2, 3), ()): 10,\n",
      "                                                                        ((<__main__.Test object at 0x7f1ece48fbe0>, 3, 2), ()): 10},\n",
      " <bound method Test.test2 of <__main__.Test object at 0x7f1ece48fbe0>>: {((<__main__.Test object at 0x7f1ece48fbe0>,), ()): 5},\n",
      " <bound method Test.test of <__main__.Test object at 0x7f1ece49a490>>: {},\n",
      " <bound method Test.test1 of <__main__.Test object at 0x7f1ece48fbe0>>: {((<__main__.Test object at 0x7f1ece48fbe0>, (3,), (4,)), ()): [3,\n",
      "                                                                                                                                        4]},\n",
      " <bound method Test.identity of <__main__.Test object at 0x7f1ece48fbe0>>: {((<__main__.Test object at 0x7f1ece48fbe0>, (('a', (('b', 1),)),)), (('b', 1),)): {'a': {'b': 1}}}}\n",
      "\n",
      "\n",
      "\n",
      "\n",
      "\n",
      "\n",
      "{<function func at 0x7f1ecd828ee0>: {},\n",
      " <bound method Test.test of <__main__.Test object at 0x7f1ece48fbe0>>: {((<__main__.Test object at 0x7f1ece48fbe0>,), (('a', 1), ('b', 2))): 8,\n",
      "                                                                        ((<__main__.Test object at 0x7f1ece48fbe0>, 2, 3), ()): 10,\n",
      "                                                                        ((<__main__.Test object at 0x7f1ece48fbe0>, 3, 2), ()): 10},\n",
      " <bound method Test.test2 of <__main__.Test object at 0x7f1ece48fbe0>>: {((<__main__.Test object at 0x7f1ece48fbe0>,), ()): 5},\n",
      " <bound method Test.test of <__main__.Test object at 0x7f1ece49a490>>: {},\n",
      " <bound method Test.test1 of <__main__.Test object at 0x7f1ece48fbe0>>: {((<__main__.Test object at 0x7f1ece48fbe0>, (3,), (4,)), ()): [3,\n",
      "                                                                                                                                        4]},\n",
      " <bound method Test.identity of <__main__.Test object at 0x7f1ece48fbe0>>: {((<__main__.Test object at 0x7f1ece48fbe0>, (('a', (('b', 1),)),)), (('b', 1),)): {'a': {'b': 1}}}}\n",
      "\n",
      "\n",
      "\n",
      "\n",
      "\n",
      "\n"
     ]
    }
   ],
   "source": [
    "cache = Cache(use_hash=True)\n",
    "\n",
    "class Test:\n",
    "\n",
    "    def __init__(self):\n",
    "        self.n = 5\n",
    "\n",
    "    @cache\n",
    "    def test(self, a, b):\n",
    "        return self.n + a + b\n",
    "\n",
    "    @cache\n",
    "    def test1(self, a, b):\n",
    "        return a + b\n",
    "\n",
    "    @cache\n",
    "    def test2(self):\n",
    "        return self.n\n",
    "\n",
    "    @cache\n",
    "    def identity(self, a, b):\n",
    "        return a\n",
    "\n",
    "test = Test()\n",
    "\n",
    "result = test.identity({'a':{'b': 1}}, b=1)\n",
    "\n",
    "result = test.test(a=1, b=2)\n",
    "\n",
    "result = test.test(b=2, a=1)\n",
    "\n",
    "result = test.test1([3],[4])\n",
    "\n",
    "result = test.test2()\n",
    "\n",
    "result = test.test(2,3)\n",
    "\n",
    "result = test.test(3,2)\n",
    "\n",
    "test1 = Test()\n",
    "result = test1.test(1,2)\n",
    "\n",
    "cache.invalidate(test1.test, test1, 1,2)\n",
    "\n",
    "@cache\n",
    "def func(a):\n",
    "    return a\n",
    "\n",
    "result = func(100)\n",
    "\n",
    "pprint(cache._cache)\n",
    "print('\\n\\n\\n\\n\\n')\n",
    "\n",
    "cache.invalidate(func, 100)\n",
    "\n",
    "pprint(cache._cache)\n",
    "print('\\n\\n\\n\\n\\n')"
   ]
  },
  {
   "cell_type": "code",
   "execution_count": null,
   "metadata": {},
   "outputs": [],
   "source": [
    "type(None)"
   ]
  },
  {
   "cell_type": "code",
   "execution_count": null,
   "metadata": {},
   "outputs": [],
   "source": [
    "hash(None)"
   ]
  },
  {
   "cell_type": "code",
   "execution_count": null,
   "metadata": {},
   "outputs": [],
   "source": []
  }
 ],
 "metadata": {
  "kernelspec": {
   "display_name": "Python 3.8.13 ('python-3.8')",
   "language": "python",
   "name": "python3"
  },
  "language_info": {
   "codemirror_mode": {
    "name": "ipython",
    "version": 3
   },
   "file_extension": ".py",
   "mimetype": "text/x-python",
   "name": "python",
   "nbconvert_exporter": "python",
   "pygments_lexer": "ipython3",
   "version": "3.8.13"
  },
  "orig_nbformat": 4,
  "vscode": {
   "interpreter": {
    "hash": "968846a6247f40f641f581ac05733c0755a9d15ebd0b308483520db9bb966ea7"
   }
  }
 },
 "nbformat": 4,
 "nbformat_minor": 2
}
